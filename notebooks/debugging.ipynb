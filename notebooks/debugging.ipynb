{
 "cells": [
  {
   "cell_type": "code",
   "execution_count": 1,
   "id": "15986050-3aea-47f6-b674-c22af3d02aff",
   "metadata": {},
   "outputs": [],
   "source": [
    "import main"
   ]
  },
  {
   "cell_type": "code",
   "execution_count": null,
   "id": "4b2113d3-3556-490e-a819-cb757ee68b33",
   "metadata": {},
   "outputs": [],
   "source": [
    "main.main([\"https://www.ishares.com/uk/individual/en/products/253742/ishares-nikkei-225-ucits-etf\", \"https://www.ishares.com/uk/individual/en/products/251867/ishares-msci-japan-ucits-etf-acc-fund\"])"
   ]
  },
  {
   "cell_type": "code",
   "execution_count": 3,
   "id": "663cdce0-9931-4857-8f66-55f5a50e6d30",
   "metadata": {},
   "outputs": [],
   "source": [
    "import csv\n",
    "import os\n",
    "import re\n",
    "\n",
    "import pandas as pd\n",
    "import collections\n",
    "\n",
    "import requests\n",
    "import wget\n",
    "import urllib.request\n",
    "from bs4 import BeautifulSoup"
   ]
  },
  {
   "cell_type": "code",
   "execution_count": 30,
   "id": "97ae83fe-ef95-48c5-959e-3316583fa047",
   "metadata": {},
   "outputs": [
    {
     "ename": "IndexError",
     "evalue": "list index out of range",
     "output_type": "error",
     "traceback": [
      "\u001b[0;31m---------------------------------------------------------------------------\u001b[0m",
      "\u001b[0;31mIndexError\u001b[0m                                Traceback (most recent call last)",
      "Cell \u001b[0;32mIn[30], line 3\u001b[0m\n\u001b[1;32m      1\u001b[0m req \u001b[38;5;241m=\u001b[39m requests\u001b[38;5;241m.\u001b[39mget(\u001b[38;5;124m\"\u001b[39m\u001b[38;5;124mhttps://www.ishares.com/uk/individual/en/products/253742/ishares-nikkei-225-ucits-etf\u001b[39m\u001b[38;5;124m\"\u001b[39m)\n\u001b[1;32m      2\u001b[0m soup \u001b[38;5;241m=\u001b[39m BeautifulSoup(req\u001b[38;5;241m.\u001b[39mcontent, \u001b[38;5;124m\"\u001b[39m\u001b[38;5;124mhtml.parser\u001b[39m\u001b[38;5;124m\"\u001b[39m)\n\u001b[0;32m----> 3\u001b[0m suburl \u001b[38;5;241m=\u001b[39m \u001b[43msoup\u001b[49m\u001b[38;5;241;43m.\u001b[39;49m\u001b[43mselect\u001b[49m\u001b[43m(\u001b[49m\u001b[38;5;124;43m\"\u001b[39;49m\u001b[38;5;124;43mdiv.holdings.fund-component-data-export > a.icon-xls-export\u001b[39;49m\u001b[38;5;124;43m\"\u001b[39;49m\u001b[43m)\u001b[49m\u001b[43m[\u001b[49m\u001b[38;5;241;43m0\u001b[39;49m\u001b[43m]\u001b[49m\u001b[38;5;241m.\u001b[39mget(\u001b[38;5;124m\"\u001b[39m\u001b[38;5;124mhref\u001b[39m\u001b[38;5;124m\"\u001b[39m)\n\u001b[1;32m      5\u001b[0m \u001b[38;5;66;03m# set filename\u001b[39;00m\n\u001b[1;32m      6\u001b[0m search \u001b[38;5;241m=\u001b[39m \u001b[38;5;124m\"\u001b[39m\u001b[38;5;124mfileName=[a-zA-Z]*\u001b[39m\u001b[38;5;124m\"\u001b[39m\n",
      "\u001b[0;31mIndexError\u001b[0m: list index out of range"
     ]
    }
   ],
   "source": [
    "req = requests.get(\"https://www.ishares.com/uk/individual/en/products/253742/ishares-nikkei-225-ucits-etf\")\n",
    "soup = BeautifulSoup(req.content, \"html.parser\")\n",
    "suburl = soup.select(\"div.holdings.fund-component-data-export > a.icon-xls-export\")[0].get(\"href\")\n",
    "\n",
    "# set filename\n",
    "search = \"fileName=[a-zA-Z]*\"\n",
    "x = re.findall(search, suburl)\n",
    "filename = x[0].split(\"=\")[1] + \".csv\"\n"
   ]
  },
  {
   "cell_type": "code",
   "execution_count": 4,
   "id": "0f2a72df-1c36-447d-9f8c-c0067fba3648",
   "metadata": {},
   "outputs": [],
   "source": [
    "req = requests.get(\"https://www.ishares.com/uk/individual/en/products/251867/ishares-msci-japan-ucits-etf-acc-fund\")"
   ]
  },
  {
   "cell_type": "code",
   "execution_count": 7,
   "id": "e2feb6a6-707c-4e0e-9270-5699d11fa9bf",
   "metadata": {},
   "outputs": [],
   "source": [
    "soup = BeautifulSoup(req.content, \"html.parser\")"
   ]
  },
  {
   "cell_type": "code",
   "execution_count": null,
   "id": "db4d09b4-ae86-4eb0-a5be-2c6984ba5411",
   "metadata": {},
   "outputs": [],
   "source": [
    "https://www.ishares.com/uk/individual/en/products/251867/ishares-msci-japan-ucits-etf-acc-fund/1506575576011.ajax?fileType=csv&fileName=SJPA_holdings&dataType=fund"
   ]
  },
  {
   "cell_type": "code",
   "execution_count": 22,
   "id": "85ec28ac-eeb5-4fc6-98bf-59d95f9d91b0",
   "metadata": {},
   "outputs": [
    {
     "ename": "IndexError",
     "evalue": "list index out of range",
     "output_type": "error",
     "traceback": [
      "\u001b[0;31m---------------------------------------------------------------------------\u001b[0m",
      "\u001b[0;31mIndexError\u001b[0m                                Traceback (most recent call last)",
      "Cell \u001b[0;32mIn[22], line 1\u001b[0m\n\u001b[0;32m----> 1\u001b[0m \u001b[43msoup\u001b[49m\u001b[38;5;241;43m.\u001b[39;49m\u001b[43mselect\u001b[49m\u001b[43m(\u001b[49m\u001b[38;5;124;43m\"\u001b[39;49m\u001b[38;5;124;43mdiv.holdings.fund-component-data-export > a.icon-xls-export\u001b[39;49m\u001b[38;5;124;43m\"\u001b[39;49m\u001b[43m)\u001b[49m\u001b[43m[\u001b[49m\u001b[38;5;241;43m0\u001b[39;49m\u001b[43m]\u001b[49m\u001b[38;5;241m.\u001b[39mget(\u001b[38;5;124m\"\u001b[39m\u001b[38;5;124mhref\u001b[39m\u001b[38;5;124m\"\u001b[39m)\n",
      "\u001b[0;31mIndexError\u001b[0m: list index out of range"
     ]
    }
   ],
   "source": [
    "soup.select(\"div.holdings.fund-component-data-export > a.icon-xls-export\")[0].get(\"href\")"
   ]
  },
  {
   "cell_type": "code",
   "execution_count": 25,
   "id": "9966ba14-ac87-4ccf-972a-037f61a1bd9d",
   "metadata": {},
   "outputs": [],
   "source": [
    "soup.find(\"div\", {\"class\": \"holdings.fund-component-data-export\"})"
   ]
  },
  {
   "cell_type": "code",
   "execution_count": null,
   "id": "84b9941a-03c3-4d1d-ac83-a6a7fcabd350",
   "metadata": {},
   "outputs": [],
   "source": []
  }
 ],
 "metadata": {
  "kernelspec": {
   "display_name": "Python 3 (ipykernel)",
   "language": "python",
   "name": "python3"
  },
  "language_info": {
   "codemirror_mode": {
    "name": "ipython",
    "version": 3
   },
   "file_extension": ".py",
   "mimetype": "text/x-python",
   "name": "python",
   "nbconvert_exporter": "python",
   "pygments_lexer": "ipython3",
   "version": "3.10.4"
  }
 },
 "nbformat": 4,
 "nbformat_minor": 5
}
